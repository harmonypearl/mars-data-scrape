{
 "cells": [
  {
   "cell_type": "code",
   "execution_count": 2,
   "metadata": {
    "collapsed": true
   },
   "outputs": [],
   "source": [
    "#dependencies\n",
    "import pandas as pd\n",
    "import requests\n",
    "from splinter import Browser\n",
    "from bs4 import BeautifulSoup"
   ]
  },
  {
   "cell_type": "markdown",
   "metadata": {},
   "source": [
    "### NASA Mars News"
   ]
  },
  {
   "cell_type": "code",
   "execution_count": 4,
   "metadata": {
    "collapsed": false
   },
   "outputs": [],
   "source": [
    "#retrieve page to be scraped\n",
    "with Browser() as browser:\n",
    "    url = 'https://mars.nasa.gov/news/'\n",
    "    browser.visit(url)\n",
    "    html = browser.html\n",
    "    \n",
    "    #create BeautifulSoup object; parse with 'html.parser'\n",
    "    soup = BeautifulSoup(html, 'html.parser')\n",
    "\n",
    "    #examine the results, then determine element that contains desired info\n",
    "    #results are returned as an iterable list\n",
    "    results = soup.find_all('div', class_ = 'list_text')"
   ]
  },
  {
   "cell_type": "code",
   "execution_count": 5,
   "metadata": {
    "collapsed": false
   },
   "outputs": [
    {
     "name": "stdout",
     "output_type": "stream",
     "text": [
      "15\n"
     ]
    }
   ],
   "source": [
    "#check how many results are returned\n",
    "print(len(results))"
   ]
  },
  {
   "cell_type": "code",
   "execution_count": 6,
   "metadata": {
    "collapsed": false,
    "scrolled": true
   },
   "outputs": [
    {
     "name": "stdout",
     "output_type": "stream",
     "text": [
      "||Take a Walk on Mars -- in Your Own Living Room\n",
      " \n",
      "When NASA scientists want to follow the path of the Curiosity rover on Mars, they can don a mixed-reality headset and virtually explore the Martian landscape.\n",
      "__________________________________________________\n",
      " \n",
      "||NASA’s MAVEN Mission Finds Mars Has a Twisted Tail\n",
      " \n",
      "Mars has an invisible magnetic “tail” that is twisted by interaction with the solar wind, according to new research using data from NASA’s MAVEN spacecraft. \n",
      "__________________________________________________\n",
      " \n",
      "||Mars Study Yields Clues to Possible Cradle of Life\n",
      " \n",
      "The discovery of evidence for ancient sea-floor hydrothermal deposits on Mars identifies an area on the planet that may offer clues about the origin of life on Earth.\n",
      "__________________________________________________\n",
      " \n",
      "||Examining Mars' Moon Phobos in a Different Light\n",
      " \n",
      "NASA's longest-lived mission to Mars has gained its first look at the Martian moon Phobos, pursuing a deeper understanding by examining it in infrared wavelengths.\n",
      "__________________________________________________\n",
      " \n",
      "||Another Chance to Put Your Name on Mars\n",
      " \n",
      "NASA's InSight lander will travel to Mars next year. When it does, it will be carrying two microchips bearing the names of members of the public.\n",
      "__________________________________________________\n",
      " \n",
      "||Large Solar Storm Sparks Global Aurora and Doubles Radiation Levels on the Martian Surface\n",
      " \n",
      "An unexpectedly strong blast from the Sun hit Mars in September, observed by NASA missions in orbit and on the surface.\n",
      "__________________________________________________\n",
      " \n",
      "||A Fresh Look at Older Data Yields a Surprise Near the Martian Equator\n",
      " \n",
      "Scientists taking a new look at older data from NASA's longest-operating Mars orbiter have discovered evidence of significant hydration near the Martian equator -- a mysterious signature in a region of the Red Planet where planetary scientists figure ice shouldn't exist.\n",
      "__________________________________________________\n",
      " \n",
      "||NASA's Curiosity Mars Rover Climbing Toward Ridge Top\n",
      " \n",
      "NASA's Mars rover Curiosity has begun the steep ascent of an iron-oxide-bearing ridge that's grabbed scientists' attention since before the car-sized rover's 2012 landing.\n",
      "__________________________________________________\n",
      " \n",
      "||NASA's Next Mars Mission to Investigate Interior of Red Planet\n",
      " \n",
      "Preparation of NASA's next spacecraft to Mars, InSight, has ramped up this summer, on course for launch next May from Vandenberg Air Force Base in central California -- the first interplanetary launch in history from America's West Coast.\n",
      "__________________________________________________\n",
      " \n",
      "||Watch Martian Clouds Scoot, Thanks to NASA's Curiosity\n",
      " \n",
      "Wispy, early-season clouds resembling Earth's ice-crystal cirrus clouds move across the Martian sky in some new image sequences from NASA's Curiosity Mars rover.\n",
      "__________________________________________________\n",
      " \n",
      "||Five Years Ago and 154 Million Miles Away:  Touchdown!\n",
      " \n",
      "NASA's Curiosity Mars rover, which landed near Mount Sharp five years ago this week, is examining  clues on that mountain about long-ago lakes on Mars.\n",
      "__________________________________________________\n",
      " \n",
      "||Eclipse Balloons to Study Effect of Mars-Like Environment on Life\n",
      " \n",
      "Microbes carried to the edge of space during the Aug. 21 eclipse will be analyzed by NASA's Ames Research Center and JPL.\n",
      "__________________________________________________\n",
      " \n",
      "||From Mars Rover: Panorama Above 'Perseverance Valley'\n",
      " \n",
      "NASA's Mars Exploration Rover Opportunity recorded a panoramic view before entering the upper end of a fluid-carved valley that descends the inner slope of a large crater's rim.\n",
      "__________________________________________________\n",
      " \n",
      "||NASA's Hubble Sees Martian Moon Orbiting the Red Planet\n",
      " \n",
      "The sharp eye of NASA's Hubble Space Telescope has captured the tiny moon Phobos during its orbital trek around Mars. Because the moon is so small, it appears star-like in the Hubble pictures.\n",
      "__________________________________________________\n",
      " \n",
      "||For Moratorium on Sending Commands to Mars, Blame the Sun\n",
      " \n",
      "This month, movements of the planets will put Mars almost directly behind the sun, from Earth's perspective, causing curtailed communications between Earth and Mars.\n",
      "__________________________________________________\n",
      " \n"
     ]
    }
   ],
   "source": [
    "#loop through returned results to scrape desired info\n",
    "for result in results:\n",
    "    \n",
    "    #error handling\n",
    "    try:\n",
    "        \n",
    "        #retrieve article title\n",
    "        title = result.find('a')\n",
    "        \n",
    "        #access the text content of the title and print\n",
    "        news_t = title.text\n",
    "        print('||' + news_t)\n",
    "        print(' ')\n",
    "\n",
    "        #retrieve article teaser \n",
    "        para = result.find('div', class_ = 'article_teaser_body')\n",
    "        \n",
    "        #access the text content of the article teaser and print\n",
    "        news_p = para.text\n",
    "        print(news_p)\n",
    "        print('__________________________________________________')\n",
    "        print(' ')\n",
    "\n",
    "    except:\n",
    "        print('error')"
   ]
  },
  {
   "cell_type": "markdown",
   "metadata": {},
   "source": [
    "### JPL Mars Space Images - Featured Image"
   ]
  },
  {
   "cell_type": "code",
   "execution_count": 82,
   "metadata": {
    "collapsed": true
   },
   "outputs": [],
   "source": [
    "#url for jpl main site\n",
    "jpl_url = 'https://www.jpl.nasa.gov'\n",
    "\n",
    "#retrieve page to be scraped\n",
    "with Browser() as browser:\n",
    "    url = jpl_url + '/spaceimages/?search=&category=Mars'\n",
    "    browser.visit(url)\n",
    "    html = browser.html\n",
    "    \n",
    "    #create BeautifulSoup object; parse with 'html.parser'\n",
    "    soup = BeautifulSoup(html, 'html.parser')\n",
    "\n",
    "    #examine the results, then determine element that contains desired info\n",
    "    #results are returned as an iterable list\n",
    "    results = soup.find_all('div', class_ = 'carousel_items')"
   ]
  },
  {
   "cell_type": "code",
   "execution_count": 83,
   "metadata": {
    "collapsed": false
   },
   "outputs": [
    {
     "name": "stdout",
     "output_type": "stream",
     "text": [
      "[<div class=\"carousel_items\">\n",
      "<article alt=\"Opportunity's Northward View of 'Wdowiak Ridge'\" class=\"carousel_item\" style=\"background-image: url('/spaceimages/images/wallpaper/PIA18614-1920x1200.jpg');\">\n",
      "<div class=\"default floating_text_area ms-layer\">\n",
      "<h2 class=\"category_title\">\n",
      "</h2>\n",
      "<h2 class=\"brand_title\">\n",
      "\t\t\t\t  FEATURED IMAGE\n",
      "\t\t\t\t</h2>\n",
      "<h1 class=\"media_feature_title\">\n",
      "\t\t\t\t  Opportunity's Northward View of 'Wdowiak Ridge'\t\t\t\t</h1>\n",
      "<div class=\"description\">\n",
      "</div>\n",
      "<footer>\n",
      "<a class=\"button fancybox\" data-description=\"This vista from NASA's Mars Exploration Rover Opportunity shows 'Wdowiak Ridge,' from left foreground to center, as part of a northward look with the rover's tracks visible at right.\" data-fancybox-group=\"images\" data-fancybox-href=\"/spaceimages/images/mediumsize/PIA18614_ip.jpg\" data-link=\"/spaceimages/details.php?id=PIA18614\" data-title=\"Opportunity's Northward View of 'Wdowiak Ridge'\" id=\"full_image\">\n",
      "\t\t\t\t\tFULL IMAGE\n",
      "\t\t\t\t  </a>\n",
      "</footer>\n",
      "</div>\n",
      "<div class=\"gradient_container_top\"></div>\n",
      "<div class=\"gradient_container_bottom\"></div>\n",
      "</article>\n",
      "</div>]\n"
     ]
    }
   ],
   "source": [
    "print(results)"
   ]
  },
  {
   "cell_type": "code",
   "execution_count": 84,
   "metadata": {
    "collapsed": false
   },
   "outputs": [
    {
     "name": "stdout",
     "output_type": "stream",
     "text": [
      "/spaceimages/images/mediumsize/PIA18614_ip.jpg\n"
     ]
    }
   ],
   "source": [
    "for result in results:\n",
    "    link = result.a['data-fancybox-href']\n",
    "    featured_image_url = jpl_url =\n",
    "    print(link)"
   ]
  },
  {
   "cell_type": "code",
   "execution_count": null,
   "metadata": {
    "collapsed": true
   },
   "outputs": [],
   "source": []
  },
  {
   "cell_type": "code",
   "execution_count": null,
   "metadata": {
    "collapsed": true
   },
   "outputs": [],
   "source": []
  }
 ],
 "metadata": {
  "kernelspec": {
   "display_name": "Python 3",
   "language": "python",
   "name": "python3"
  },
  "language_info": {
   "codemirror_mode": {
    "name": "ipython",
    "version": 3
   },
   "file_extension": ".py",
   "mimetype": "text/x-python",
   "name": "python",
   "nbconvert_exporter": "python",
   "pygments_lexer": "ipython3",
   "version": "3.6.0"
  }
 },
 "nbformat": 4,
 "nbformat_minor": 2
}
