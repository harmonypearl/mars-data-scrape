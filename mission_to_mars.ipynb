{
 "cells": [
  {
   "cell_type": "code",
   "execution_count": 1,
   "metadata": {
    "collapsed": true
   },
   "outputs": [],
   "source": [
    "#dependencies\n",
    "import pandas as pd\n",
    "import requests\n",
    "from splinter import Browser\n",
    "from bs4 import BeautifulSoup\n",
    "import html5lib"
   ]
  },
  {
   "cell_type": "markdown",
   "metadata": {},
   "source": [
    "### NASA Mars News"
   ]
  },
  {
   "cell_type": "code",
   "execution_count": 2,
   "metadata": {
    "collapsed": false
   },
   "outputs": [],
   "source": [
    "#retrieve page to be scraped\n",
    "with Browser() as browser:\n",
    "    url = 'https://mars.nasa.gov/news/'\n",
    "    browser.visit(url)\n",
    "    html = browser.html\n",
    "    \n",
    "    #create BeautifulSoup object; parse with 'html.parser'\n",
    "    soup = BeautifulSoup(html, 'html.parser')\n",
    "\n",
    "    #examine the results, then determine element that contains desired info\n",
    "    #results are returned as an iterable list\n",
    "    results = soup.find_all('div', class_ = 'list_text')"
   ]
  },
  {
   "cell_type": "code",
   "execution_count": 3,
   "metadata": {
    "collapsed": false
   },
   "outputs": [
    {
     "name": "stdout",
     "output_type": "stream",
     "text": [
      "15\n"
     ]
    }
   ],
   "source": [
    "#check how many results are returned\n",
    "print(len(results))"
   ]
  },
  {
   "cell_type": "code",
   "execution_count": 130,
   "metadata": {
    "collapsed": false,
    "scrolled": true
   },
   "outputs": [],
   "source": [
    "#loop through returned results to scrape desired info\n",
    "for result in results:\n",
    "    \n",
    "    #error handling\n",
    "    try:\n",
    "        \n",
    "        #retrieve article title\n",
    "        title = result.find('a')\n",
    "        \n",
    "        #access the text content of the title and print\n",
    "        news_t = title.text\n",
    "        print('||' + news_t)\n",
    "        print(' ')\n",
    "\n",
    "        #retrieve article teaser \n",
    "        para = result.find('div', class_ = 'article_teaser_body')\n",
    "        \n",
    "        #access the text content of the article teaser and print\n",
    "        news_p = para.text\n",
    "        print(news_p)\n",
    "        print('__________________________________________________')\n",
    "        print(' ')\n",
    "\n",
    "    except:\n",
    "        print('error')"
   ]
  },
  {
   "cell_type": "markdown",
   "metadata": {},
   "source": [
    "### JPL Mars Space Images - Featured Image"
   ]
  },
  {
   "cell_type": "code",
   "execution_count": 133,
   "metadata": {
    "collapsed": true
   },
   "outputs": [],
   "source": [
    "#url for jpl main site\n",
    "jpl_url = 'https://www.jpl.nasa.gov'\n",
    "\n",
    "#retrieve page to be scraped\n",
    "with Browser() as browser:\n",
    "    url = jpl_url + '/spaceimages/?search=&category=Mars'\n",
    "    browser.visit(url)\n",
    "    html = browser.html\n",
    "    \n",
    "    #create BeautifulSoup object; parse with 'html.parser'\n",
    "    soup = BeautifulSoup(html, 'html.parser')\n",
    "\n",
    "    #examine the results, then determine element that contains desired info\n",
    "    #results are returned as an iterable list\n",
    "    results = soup.find_all('div', class_ = 'carousel_items')"
   ]
  },
  {
   "cell_type": "code",
   "execution_count": 134,
   "metadata": {
    "collapsed": false
   },
   "outputs": [
    {
     "name": "stdout",
     "output_type": "stream",
     "text": [
      "\n",
      "\t\t\t\t  Weighing in on the Dumbbell Nebula\t\t\t\t\n",
      "The 'Dumbbell nebula,' also known as Messier 27, pumps out infrared light in this image from NASA's Spitzer Space Telescope. Planetary nebulae are now known to be the remains of stars that once looked a lot like our sun.\n",
      " \n",
      "https://www.jpl.nasa.gov/spaceimages/images/mediumsize/PIA14417_ip.jpg\n"
     ]
    }
   ],
   "source": [
    "#loop over results to scrape image data\n",
    "for result in results:\n",
    "    \n",
    "    #retrieve and print image title & description\n",
    "    image_title = result.find('h1', class_ = 'media_feature_title')  \n",
    "    image_descript = result.a['data-description']\n",
    "    print(image_title.text)\n",
    "    print(image_descript)\n",
    "    print(' ')\n",
    "    \n",
    "    #retrieve image link and print full image url\n",
    "    image_link = result.a['data-fancybox-href']\n",
    "    featured_image_url = jpl_url + image_link\n",
    "    print(featured_image_url)"
   ]
  },
  {
   "cell_type": "markdown",
   "metadata": {
    "collapsed": true
   },
   "source": [
    "### Mars Weather"
   ]
  },
  {
   "cell_type": "code",
   "execution_count": 26,
   "metadata": {
    "collapsed": true
   },
   "outputs": [],
   "source": [
    "#retreive page to be scraped\n",
    "with Browser() as browser:\n",
    "    url = 'https://twitter.com/marswxreport?lang=en'\n",
    "    browser.visit(url)\n",
    "    weather_html = browser.html\n",
    "    \n",
    "# Create BeautifulSoup object; parse with 'html.parser'\n",
    "soup = BeautifulSoup(weather_html, 'html.parser')\n",
    "\n",
    "#examine the results, then determine element that contains desired info\n",
    "#results are returned as an iterable list\n",
    "results = soup.find('div', class_='js-tweet-text-container')"
   ]
  },
  {
   "cell_type": "code",
   "execution_count": 27,
   "metadata": {
    "collapsed": false
   },
   "outputs": [
    {
     "data": {
      "text/plain": [
       "'Sol 1848 (Oct 17, 2017), Sunny, high -28C/-18F, low -80C/-112F, pressure at 8.65 hPa, daylight 05:59-17:42'"
      ]
     },
     "execution_count": 27,
     "metadata": {},
     "output_type": "execute_result"
    }
   ],
   "source": [
    "#retrieve tweet and print text\n",
    "mars_weather = results.find('p').text\n",
    "mars_weather"
   ]
  }
 ],
 "metadata": {
  "kernelspec": {
   "display_name": "Python 3",
   "language": "python",
   "name": "python3"
  },
  "language_info": {
   "codemirror_mode": {
    "name": "ipython",
    "version": 3
   },
   "file_extension": ".py",
   "mimetype": "text/x-python",
   "name": "python",
   "nbconvert_exporter": "python",
   "pygments_lexer": "ipython3",
   "version": "3.6.0"
  }
 },
 "nbformat": 4,
 "nbformat_minor": 2
}
