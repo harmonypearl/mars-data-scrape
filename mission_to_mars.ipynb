{
 "cells": [
  {
   "cell_type": "code",
   "execution_count": 1,
   "metadata": {
    "collapsed": true
   },
   "outputs": [],
   "source": [
    "#dependencies\n",
    "import pandas as pd\n",
    "import requests\n",
    "from splinter import Browser\n",
    "from bs4 import BeautifulSoup\n",
    "import html5lib"
   ]
  },
  {
   "cell_type": "markdown",
   "metadata": {},
   "source": [
    "## NASA Mars News"
   ]
  },
  {
   "cell_type": "code",
   "execution_count": 43,
   "metadata": {
    "collapsed": false
   },
   "outputs": [],
   "source": [
    "#retrieve page to be scraped\n",
    "with Browser() as browser:\n",
    "    url = 'https://mars.nasa.gov/news/'\n",
    "    browser.visit(url)\n",
    "    news_html = browser.html\n",
    "    \n",
    "    #create BeautifulSoup object; parse with 'html.parser'\n",
    "    soup = BeautifulSoup(news_html, 'html.parser')\n",
    "\n",
    "    #examine the results, then determine element that contains desired info\n",
    "    #results are returned as an iterable list\n",
    "    results = soup.find_all('div', class_ = 'list_text')"
   ]
  },
  {
   "cell_type": "code",
   "execution_count": 44,
   "metadata": {
    "collapsed": false
   },
   "outputs": [
    {
     "name": "stdout",
     "output_type": "stream",
     "text": [
      "15\n"
     ]
    }
   ],
   "source": [
    "#check how many results are returned\n",
    "print(len(results))"
   ]
  },
  {
   "cell_type": "code",
   "execution_count": 45,
   "metadata": {
    "collapsed": false,
    "scrolled": true
   },
   "outputs": [
    {
     "name": "stdout",
     "output_type": "stream",
     "text": [
      "||Take a Walk on Mars -- in Your Own Living Room\n",
      " \n",
      "When NASA scientists want to follow the path of the Curiosity rover on Mars, they can don a mixed-reality headset and virtually explore the Martian landscape.\n",
      "__________________________________________________\n",
      " \n",
      "||NASA’s MAVEN Mission Finds Mars Has a Twisted Tail\n",
      " \n",
      "Mars has an invisible magnetic “tail” that is twisted by interaction with the solar wind, according to new research using data from NASA’s MAVEN spacecraft. \n",
      "__________________________________________________\n",
      " \n",
      "||Mars Study Yields Clues to Possible Cradle of Life\n",
      " \n",
      "The discovery of evidence for ancient sea-floor hydrothermal deposits on Mars identifies an area on the planet that may offer clues about the origin of life on Earth.\n",
      "__________________________________________________\n",
      " \n",
      "||Examining Mars' Moon Phobos in a Different Light\n",
      " \n",
      "NASA's longest-lived mission to Mars has gained its first look at the Martian moon Phobos, pursuing a deeper understanding by examining it in infrared wavelengths.\n",
      "__________________________________________________\n",
      " \n",
      "||Another Chance to Put Your Name on Mars\n",
      " \n",
      "NASA's InSight lander will travel to Mars next year. When it does, it will be carrying two microchips bearing the names of members of the public.\n",
      "__________________________________________________\n",
      " \n",
      "||Large Solar Storm Sparks Global Aurora and Doubles Radiation Levels on the Martian Surface\n",
      " \n",
      "An unexpectedly strong blast from the Sun hit Mars in September, observed by NASA missions in orbit and on the surface.\n",
      "__________________________________________________\n",
      " \n",
      "||A Fresh Look at Older Data Yields a Surprise Near the Martian Equator\n",
      " \n",
      "Scientists taking a new look at older data from NASA's longest-operating Mars orbiter have discovered evidence of significant hydration near the Martian equator -- a mysterious signature in a region of the Red Planet where planetary scientists figure ice shouldn't exist.\n",
      "__________________________________________________\n",
      " \n",
      "||NASA's Curiosity Mars Rover Climbing Toward Ridge Top\n",
      " \n",
      "NASA's Mars rover Curiosity has begun the steep ascent of an iron-oxide-bearing ridge that's grabbed scientists' attention since before the car-sized rover's 2012 landing.\n",
      "__________________________________________________\n",
      " \n",
      "||NASA's Next Mars Mission to Investigate Interior of Red Planet\n",
      " \n",
      "Preparation of NASA's next spacecraft to Mars, InSight, has ramped up this summer, on course for launch next May from Vandenberg Air Force Base in central California -- the first interplanetary launch in history from America's West Coast.\n",
      "__________________________________________________\n",
      " \n",
      "||Watch Martian Clouds Scoot, Thanks to NASA's Curiosity\n",
      " \n",
      "Wispy, early-season clouds resembling Earth's ice-crystal cirrus clouds move across the Martian sky in some new image sequences from NASA's Curiosity Mars rover.\n",
      "__________________________________________________\n",
      " \n",
      "||Five Years Ago and 154 Million Miles Away:  Touchdown!\n",
      " \n",
      "NASA's Curiosity Mars rover, which landed near Mount Sharp five years ago this week, is examining  clues on that mountain about long-ago lakes on Mars.\n",
      "__________________________________________________\n",
      " \n",
      "||Eclipse Balloons to Study Effect of Mars-Like Environment on Life\n",
      " \n",
      "Microbes carried to the edge of space during the Aug. 21 eclipse will be analyzed by NASA's Ames Research Center and JPL.\n",
      "__________________________________________________\n",
      " \n",
      "||From Mars Rover: Panorama Above 'Perseverance Valley'\n",
      " \n",
      "NASA's Mars Exploration Rover Opportunity recorded a panoramic view before entering the upper end of a fluid-carved valley that descends the inner slope of a large crater's rim.\n",
      "__________________________________________________\n",
      " \n",
      "||NASA's Hubble Sees Martian Moon Orbiting the Red Planet\n",
      " \n",
      "The sharp eye of NASA's Hubble Space Telescope has captured the tiny moon Phobos during its orbital trek around Mars. Because the moon is so small, it appears star-like in the Hubble pictures.\n",
      "__________________________________________________\n",
      " \n",
      "||For Moratorium on Sending Commands to Mars, Blame the Sun\n",
      " \n",
      "This month, movements of the planets will put Mars almost directly behind the sun, from Earth's perspective, causing curtailed communications between Earth and Mars.\n",
      "__________________________________________________\n",
      " \n"
     ]
    }
   ],
   "source": [
    "#loop through returned results to scrape desired info\n",
    "for result in results:\n",
    "    \n",
    "    #error handling\n",
    "    try:\n",
    "        \n",
    "        #retrieve article title\n",
    "        title = result.find('a')\n",
    "        \n",
    "        #access the text content of the title and print\n",
    "        news_t = title.text\n",
    "        print('||' + news_t)\n",
    "        print(' ')\n",
    "\n",
    "        #retrieve article teaser \n",
    "        para = result.find('div', class_ = 'article_teaser_body')\n",
    "        \n",
    "        #access the text content of the article teaser and print\n",
    "        news_p = para.text\n",
    "        print(news_p)\n",
    "        print('__________________________________________________')\n",
    "        print(' ')\n",
    "\n",
    "    except:\n",
    "        print('error')"
   ]
  },
  {
   "cell_type": "markdown",
   "metadata": {},
   "source": [
    "## JPL Mars Space Images - Featured Image"
   ]
  },
  {
   "cell_type": "code",
   "execution_count": 46,
   "metadata": {
    "collapsed": true
   },
   "outputs": [],
   "source": [
    "#url for jpl main site\n",
    "jpl_url = 'https://www.jpl.nasa.gov'\n",
    "\n",
    "#retrieve page to be scraped\n",
    "with Browser() as browser:\n",
    "    url = jpl_url + '/spaceimages/?search=&category=Mars'\n",
    "    browser.visit(url)\n",
    "    image_html = browser.html\n",
    "    \n",
    "    #create BeautifulSoup object; parse with 'html.parser'\n",
    "    soup = BeautifulSoup(image_html, 'html.parser')\n",
    "\n",
    "    #examine the results, then determine element that contains desired info\n",
    "    #results are returned as an iterable list\n",
    "    results = soup.find_all('div', class_ = 'carousel_items')"
   ]
  },
  {
   "cell_type": "code",
   "execution_count": 47,
   "metadata": {
    "collapsed": false
   },
   "outputs": [
    {
     "name": "stdout",
     "output_type": "stream",
     "text": [
      "\n",
      "\t\t\t\t  Tale of Two Black Holes\t\t\t\t\n",
      "The real monster black hole is revealed in this image from NASA's Nuclear Spectroscopic Telescope Array of colliding galaxies Arp 299.\n",
      " \n",
      "https://www.jpl.nasa.gov/spaceimages/images/mediumsize/PIA18907_ip.jpg\n"
     ]
    }
   ],
   "source": [
    "#loop over results to scrape image data\n",
    "for result in results:\n",
    "    \n",
    "    #retrieve and print image title & description\n",
    "    image_title = result.find('h1', class_ = 'media_feature_title')  \n",
    "    image_descript = result.a['data-description']\n",
    "    print(image_title.text)\n",
    "    print(image_descript)\n",
    "    print(' ')\n",
    "    \n",
    "    #retrieve image link and print full image url\n",
    "    image_link = result.a['data-fancybox-href']\n",
    "    featured_image_url = jpl_url + image_link\n",
    "    print(featured_image_url)"
   ]
  },
  {
   "cell_type": "markdown",
   "metadata": {
    "collapsed": true
   },
   "source": [
    "## Mars Weather"
   ]
  },
  {
   "cell_type": "code",
   "execution_count": 26,
   "metadata": {
    "collapsed": true
   },
   "outputs": [],
   "source": [
    "#retreive page to be scraped\n",
    "with Browser() as browser:\n",
    "    url = 'https://twitter.com/marswxreport?lang=en'\n",
    "    browser.visit(url)\n",
    "    weather_html = browser.html\n",
    "    \n",
    "# Create BeautifulSoup object; parse with 'html.parser'\n",
    "soup = BeautifulSoup(weather_html, 'html.parser')\n",
    "\n",
    "#examine the results, then determine element that contains desired info\n",
    "#results are returned as an iterable list\n",
    "\n"
   ]
  },
  {
   "cell_type": "code",
   "execution_count": 28,
   "metadata": {
    "collapsed": false
   },
   "outputs": [
    {
     "data": {
      "text/plain": [
       "'Sol 1848 (Oct 17, 2017), Sunny, high -28C/-18F, low -80C/-112F, pressure at 8.65 hPa, daylight 05:59-17:42'"
      ]
     },
     "execution_count": 28,
     "metadata": {},
     "output_type": "execute_result"
    }
   ],
   "source": [
    "#retrieve tweet and view text\n",
    "mars_weather = results.find('p').text\n",
    "mars_weather"
   ]
  },
  {
   "cell_type": "markdown",
   "metadata": {},
   "source": [
    "## Mars Facts"
   ]
  },
  {
   "cell_type": "code",
   "execution_count": 32,
   "metadata": {
    "collapsed": false
   },
   "outputs": [
    {
     "data": {
      "text/plain": [
       "[                      0                              1\n",
       " 0  Equatorial Diameter:                       6,792 km\n",
       " 1       Polar Diameter:                       6,752 km\n",
       " 2                 Mass:  6.42 x 10^23 kg (10.7% Earth)\n",
       " 3                Moons:            2 (Phobos & Deimos)\n",
       " 4       Orbit Distance:       227,943,824 km (1.52 AU)\n",
       " 5         Orbit Period:           687 days (1.9 years)\n",
       " 6  Surface Temperature:                  -153 to 20 °C\n",
       " 7         First Record:              2nd millennium BC\n",
       " 8          Recorded By:           Egyptian astronomers]"
      ]
     },
     "execution_count": 32,
     "metadata": {},
     "output_type": "execute_result"
    }
   ],
   "source": [
    "#url for page to be scraped\n",
    "fact_url = 'https://space-facts.com/mars/'\n",
    "\n",
    "#read the table from the page and view\n",
    "fact_table = pd.read_html(fact_url)\n",
    "fact_table"
   ]
  },
  {
   "cell_type": "code",
   "execution_count": 38,
   "metadata": {
    "collapsed": false
   },
   "outputs": [
    {
     "data": {
      "text/html": [
       "<div>\n",
       "<table border=\"1\" class=\"dataframe\">\n",
       "  <thead>\n",
       "    <tr style=\"text-align: right;\">\n",
       "      <th></th>\n",
       "      <th>Quantity</th>\n",
       "      <th>Value</th>\n",
       "    </tr>\n",
       "  </thead>\n",
       "  <tbody>\n",
       "    <tr>\n",
       "      <th>0</th>\n",
       "      <td>Equatorial Diameter:</td>\n",
       "      <td>6,792 km</td>\n",
       "    </tr>\n",
       "    <tr>\n",
       "      <th>1</th>\n",
       "      <td>Polar Diameter:</td>\n",
       "      <td>6,752 km</td>\n",
       "    </tr>\n",
       "    <tr>\n",
       "      <th>2</th>\n",
       "      <td>Mass:</td>\n",
       "      <td>6.42 x 10^23 kg (10.7% Earth)</td>\n",
       "    </tr>\n",
       "    <tr>\n",
       "      <th>3</th>\n",
       "      <td>Moons:</td>\n",
       "      <td>2 (Phobos &amp; Deimos)</td>\n",
       "    </tr>\n",
       "    <tr>\n",
       "      <th>4</th>\n",
       "      <td>Orbit Distance:</td>\n",
       "      <td>227,943,824 km (1.52 AU)</td>\n",
       "    </tr>\n",
       "    <tr>\n",
       "      <th>5</th>\n",
       "      <td>Orbit Period:</td>\n",
       "      <td>687 days (1.9 years)</td>\n",
       "    </tr>\n",
       "    <tr>\n",
       "      <th>6</th>\n",
       "      <td>Surface Temperature:</td>\n",
       "      <td>-153 to 20 °C</td>\n",
       "    </tr>\n",
       "    <tr>\n",
       "      <th>7</th>\n",
       "      <td>First Record:</td>\n",
       "      <td>2nd millennium BC</td>\n",
       "    </tr>\n",
       "    <tr>\n",
       "      <th>8</th>\n",
       "      <td>Recorded By:</td>\n",
       "      <td>Egyptian astronomers</td>\n",
       "    </tr>\n",
       "  </tbody>\n",
       "</table>\n",
       "</div>"
      ],
      "text/plain": [
       "               Quantity                          Value\n",
       "0  Equatorial Diameter:                       6,792 km\n",
       "1       Polar Diameter:                       6,752 km\n",
       "2                 Mass:  6.42 x 10^23 kg (10.7% Earth)\n",
       "3                Moons:            2 (Phobos & Deimos)\n",
       "4       Orbit Distance:       227,943,824 km (1.52 AU)\n",
       "5         Orbit Period:           687 days (1.9 years)\n",
       "6  Surface Temperature:                  -153 to 20 °C\n",
       "7         First Record:              2nd millennium BC\n",
       "8          Recorded By:           Egyptian astronomers"
      ]
     },
     "execution_count": 38,
     "metadata": {},
     "output_type": "execute_result"
    }
   ],
   "source": [
    "#create a dataframe from the first (and in this case,only) table and view\n",
    "fact_df = fact_table[0]\n",
    "fact_df.columns = ['Quantity', 'Value']\n",
    "fact_df"
   ]
  },
  {
   "cell_type": "code",
   "execution_count": 42,
   "metadata": {
    "collapsed": false
   },
   "outputs": [
    {
     "data": {
      "text/plain": [
       "'<table border=\"1\" class=\"dataframe\">  <thead>    <tr style=\"text-align: right;\">      <th></th>      <th>Quantity</th>      <th>Value</th>    </tr>  </thead>  <tbody>    <tr>      <th>0</th>      <td>Equatorial Diameter:</td>      <td>6,792 km</td>    </tr>    <tr>      <th>1</th>      <td>Polar Diameter:</td>      <td>6,752 km</td>    </tr>    <tr>      <th>2</th>      <td>Mass:</td>      <td>6.42 x 10^23 kg (10.7% Earth)</td>    </tr>    <tr>      <th>3</th>      <td>Moons:</td>      <td>2 (Phobos &amp; Deimos)</td>    </tr>    <tr>      <th>4</th>      <td>Orbit Distance:</td>      <td>227,943,824 km (1.52 AU)</td>    </tr>    <tr>      <th>5</th>      <td>Orbit Period:</td>      <td>687 days (1.9 years)</td>    </tr>    <tr>      <th>6</th>      <td>Surface Temperature:</td>      <td>-153 to 20 °C</td>    </tr>    <tr>      <th>7</th>      <td>First Record:</td>      <td>2nd millennium BC</td>    </tr>    <tr>      <th>8</th>      <td>Recorded By:</td>      <td>Egyptian astronomers</td>    </tr>  </tbody></table>'"
      ]
     },
     "execution_count": 42,
     "metadata": {},
     "output_type": "execute_result"
    }
   ],
   "source": [
    "#generate HTML table from dataframe and strip newlines and view\n",
    "fact_html = fact_df.to_html().replace('\\n', '')\n",
    "fact_html"
   ]
  },
  {
   "cell_type": "markdown",
   "metadata": {},
   "source": [
    "## Mars Hemispheres"
   ]
  },
  {
   "cell_type": "code",
   "execution_count": 110,
   "metadata": {
    "collapsed": false,
    "scrolled": true
   },
   "outputs": [
    {
     "name": "stdout",
     "output_type": "stream",
     "text": [
      "<div class=\"container\">\n",
      "<div class=\"widget block bar\">\n",
      "<a class=\"main-logo\" href=\"/search\">\n",
      "<img alt=\"Astropedia\" src=\"/images/astropedia/astropedia-logo-main.png\">\n",
      "<h3>Product Details</h3>\n",
      "</img></a>\n",
      "</div>\n",
      "<div class=\"wide-image-wrapper \" id=\"wide-image\">\n",
      "<div class=\"downloads\">\n",
      "<img class=\"thumb\" src=\"/cache/images/04085d99ec3713883a9a57f42be9c725_valles_marineris_enhanced.tif_thumb.png\">\n",
      "<h3>Download</h3>\n",
      "<ul>\n",
      "<li><a href=\"http://astropedia.astrogeology.usgs.gov/download/Mars/Viking/valles_marineris_enhanced.tif/full.jpg\" target=\"_blank\">Sample</a> (jpg) 1024px wide</li>\n",
      "<li><a href=\"http://astropedia.astrogeology.usgs.gov/download/Mars/Viking/valles_marineris_enhanced.tif\" target=\"_blank\">Original</a> 27 MB</li>\n",
      "</ul>\n",
      "</img></div>\n",
      "<img class=\"wide-image\" src=\"/cache/images/7cf2da4bf549ed01c17f206327be4db7_valles_marineris_enhanced.tif_full.jpg\">\n",
      "<a class=\"prev-link\" href=\"/search/map/Mars/Viking/syrtis_major_unenhanced\" id=\"prev\">\n",
      "<span class=\"prev\" title=\"Previous\"></span>\n",
      "</a>\n",
      "<a class=\"next-link\" href=\"/search/map/Mars/Viking/valles_marineris_unenhanced\" id=\"next\">\n",
      "<span class=\"next\" title=\"Next\"></span>\n",
      "</a>\n",
      "<a class=\"open-toggle\" href=\"#open\" id=\"wide-image-toggle\">Open</a>\n",
      "</img></div>\n",
      "<div class=\"content\">\n",
      "<section class=\"block metadata\">\n",
      "<h2 class=\"title\">Valles Marineris Hemisphere Enhanced</h2>\n",
      "<p>Mosaic of the Valles Marineris hemisphere of Mars projected into point perspective, a view similar to that which one would see from a spacecraft. The distance is 2500 kilometers from the surface of the planet, with the scale being .6km/pixel. The mosaic is composed of 102 Viking Orbiter images of Mars. The center of the scene (lat -8, long 78) shows the entire Valles Marineris canyon system, over 2000 kilometers long and up to 8 kilometers deep, extending form Noctis Labyrinthus, the arcuate system of graben to the west, to the chaotic terrain to the east. Many huge ancient river channels begin from the chaotic terrain from north-central canyons and run north. The three Tharsis volcanoes (dark red spots), each about 25 kilometers high, are visible to the west. South of Valles Marineris is very ancient terrain covered by many impact craters.</p>\n",
      "<dl>\n",
      "<dt>Mimetype</dt>\n",
      "<dd><a href=\"/search/results?m=image/tiff\">image/tiff</a></dd>\n",
      "<dt>Filename</dt><dd><a href=\"http://astropedia.astrogeology.usgs.gov/download/Mars/Viking/valles_marineris_enhanced.tif\">valles_marineris_enhanced.tif<span class=\"tooltip word-tif\" title=\"\"></span></a></dd><dt>Originator</dt><dd>USGS Astrogeology Science Center</dd><dt>Group</dt><dd></dd><dt>Added to Astropedia</dt><dd>29 September 2011</dd><dt>Modified</dt><dd>9 July 2013</dd></dl><h2>General</h2><dl><dt>Geospatial Data Presentation Form</dt><dd><a href=\"/search/results?k1=geospatial_data_presentation_form&amp;v1=Global+Mosaic\">Global Mosaic</a></dd></dl><h2>Keywords</h2><dl><dt>Target</dt><dd><a href=\"/search/results?k1=target&amp;v1=Mars\">Mars</a></dd><dt>Theme</dt><dd><a href=\"/search/results?k1=theme&amp;v1=Canyons\">Canyons</a></dd><dt>Mission</dt><dd><a href=\"/search/results?k1=mission&amp;v1=Viking+Orbiter\">Viking Orbiter</a></dd> </dl>\n",
      "</section>\n",
      "</div>\n",
      "<div class=\"sidebar\">\n",
      "<div class=\"block\">\n",
      "<h3 class=\"title\">Derived From</h3>\n",
      "<ul class=\"listing\">\n",
      "<li><a href=\"/search/map/Mars/Viking/valles_marineris_unenhanced\">Valles Marineris Hemisphere Unenhanced</a></li></ul></div> <div class=\"block\">\n",
      "<h3 class=\"title\">Related Products</h3>\n",
      "<a class=\"item\" href=\"/search/map/Mars/Viking/cerberus_enhanced\">\n",
      "<img alt=\"Cerberus Hemisphere Enhanced thumbnail\" class=\"thumb\" src=\"/cache/images/dfaf3849e74bf973b59eb50dab52b583_cerberus_enhanced.tif_thumb.png\">\n",
      "<div class=\"description\">\n",
      "<h3>Cerberus Hemisphere Enhanced</h3>\n",
      "<p>Mosaic of the Cerberus hemisphere of Mars projected into point…</p>\n",
      "</div>\n",
      "</img></a>\n",
      "<a class=\"item\" href=\"/search/map/Mars/Viking/cerberus_unenhanced\">\n",
      "<img alt=\"Cerberus Hemisphere Unenhanced thumbnail\" class=\"thumb\" src=\"/cache/images/af0e7cc76c66a74db94aaec0a4e2f83f_cerberus_unenhanced.tif_thumb.png\">\n",
      "<div class=\"description\">\n",
      "<h3>Cerberus Hemisphere Unenhanced</h3>\n",
      "<p>Mosaic of the Cerberus hemisphere of Mars projected into point…</p>\n",
      "</div>\n",
      "</img></a>\n",
      "<a class=\"item\" href=\"/search/map/Mars/Viking/schiaparelli_enhanced\">\n",
      "<img alt=\"Schiaparelli Hemisphere Enhanced thumbnail\" class=\"thumb\" src=\"/cache/images/7677c0a006b83871b5a2f66985ab5857_schiaparelli_enhanced.tif_thumb.png\">\n",
      "<div class=\"description\">\n",
      "<h3>Schiaparelli Hemisphere Enhanced</h3>\n",
      "<p>Mosaic of the Schiaparelli hemisphere of Mars projected into point…</p>\n",
      "</div>\n",
      "</img></a>\n",
      "<a class=\"item\" href=\"/search/map/Mars/Viking/schiaparelli_unenhanced\">\n",
      "<img alt=\"Schiaparelli Hemisphere Unenhanced thumbnail\" class=\"thumb\" src=\"/cache/images/eeda48b8f032727970d735b2b689937c_schiaparelli_unenhanced.tif_thumb.png\">\n",
      "<div class=\"description\">\n",
      "<h3>Schiaparelli Hemisphere Unenhanced</h3>\n",
      "<p>Mosaic of the Schiaparelli hemisphere of Mars projected into point…</p>\n",
      "</div>\n",
      "</img></a>\n",
      "<a class=\"item\" href=\"/search/map/Mars/Viking/syrtis_major_enhanced\">\n",
      "<img alt=\"Syrtis Major Hemisphere Enhanced thumbnail\" class=\"thumb\" src=\"/cache/images/aae41197e40d6d4f3ea557f8cfe51d15_syrtis_major_enhanced.tif_thumb.png\">\n",
      "<div class=\"description\">\n",
      "<h3>Syrtis Major Hemisphere Enhanced</h3>\n",
      "<p>Mosaic of the Syrtis Major hemisphere of Mars projected into point…</p>\n",
      "</div>\n",
      "</img></a>\n",
      "<ul class=\"page-numbers\"><li><a class=\"active \" href=\"/search/map/Mars/Viking/valles_marineris_enhanced?p=1&amp;pb=1#downloads\">1</a></li><li><a class=\"\" href=\"/search/map/Mars/Viking/valles_marineris_enhanced?p=2&amp;pb=1#downloads\">2</a></li></ul></div></div>\n",
      "</div>\n"
     ]
    },
    {
     "ename": "TypeError",
     "evalue": "find() takes no keyword arguments",
     "output_type": "error",
     "traceback": [
      "\u001b[0;31m---------------------------------------------------------------------------\u001b[0m",
      "\u001b[0;31mTypeError\u001b[0m                                 Traceback (most recent call last)",
      "\u001b[0;32m<ipython-input-110-37f0c5873bef>\u001b[0m in \u001b[0;36m<module>\u001b[0;34m()\u001b[0m\n\u001b[1;32m     26\u001b[0m \u001b[0;31m#         print(hemi_title)\u001b[0m\u001b[0;34m\u001b[0m\u001b[0;34m\u001b[0m\u001b[0m\n\u001b[1;32m     27\u001b[0m     \u001b[0;32mfor\u001b[0m \u001b[0mresult\u001b[0m \u001b[0;32min\u001b[0m \u001b[0mresults\u001b[0m\u001b[0;34m:\u001b[0m\u001b[0;34m\u001b[0m\u001b[0m\n\u001b[0;32m---> 28\u001b[0;31m         \u001b[0mlink_results\u001b[0m \u001b[0;34m=\u001b[0m \u001b[0mresult\u001b[0m\u001b[0;34m.\u001b[0m\u001b[0mfind\u001b[0m\u001b[0;34m(\u001b[0m\u001b[0;34m'img'\u001b[0m\u001b[0;34m,\u001b[0m \u001b[0mclass_\u001b[0m \u001b[0;34m=\u001b[0m \u001b[0;34m'wide-image'\u001b[0m\u001b[0;34m)\u001b[0m\u001b[0;34m\u001b[0m\u001b[0m\n\u001b[0m\u001b[1;32m     29\u001b[0m         \u001b[0mhemi_link\u001b[0m \u001b[0;34m=\u001b[0m \u001b[0mlink_results\u001b[0m\u001b[0;34m[\u001b[0m\u001b[0;34m'src'\u001b[0m\u001b[0;34m]\u001b[0m\u001b[0;34m\u001b[0m\u001b[0m\n\u001b[1;32m     30\u001b[0m         \u001b[0mhemi_image_url\u001b[0m \u001b[0;34m=\u001b[0m \u001b[0musgs_url\u001b[0m \u001b[0;34m+\u001b[0m \u001b[0mhemi_link\u001b[0m\u001b[0;34m\u001b[0m\u001b[0m\n",
      "\u001b[0;31mTypeError\u001b[0m: find() takes no keyword arguments"
     ]
    }
   ],
   "source": [
    "hemi_urls = ['https://astrogeology.usgs.gov/search/map/Mars/Viking/valles_marineris_enhanced',\n",
    "             'https://astrogeology.usgs.gov/search/map/Mars/Viking/cerberus_enhanced',\n",
    "             'https://astrogeology.usgs.gov/search/map/Mars/Viking/schiaparelli_enhanced',\n",
    "             'https://astrogeology.usgs.gov/search/map/Mars/Viking/syrtis_major_enhanced'\n",
    "            ]\n",
    "\n",
    "usgs_url = 'https://astrogeology.usgs.gov'\n",
    "\n",
    "for item in hemi_urls:\n",
    "\n",
    "    with Browser() as browser:\n",
    "        url = item\n",
    "        browser.visit(url)\n",
    "        hemi_html = browser.html\n",
    "\n",
    "    # Create BeautifulSoup object; parse with 'html.parser'\n",
    "    soup = BeautifulSoup(hemi_html, 'html.parser')\n",
    "    \n",
    "    results = soup.find('div', class_ = 'container')\n",
    "    \n",
    "    print(results)\n",
    "    \n",
    "#     for result in results:\n",
    "#         title_results = result.find('h2', class_ = 'title')\n",
    "#         hemi_title = title_results.text\n",
    "#         print(hemi_title)\n",
    "    for result in results: \n",
    "        link_results = result.find_all('img', class_ = 'wide-image')\n",
    "        hemi_link = link_results['src']\n",
    "        hemi_image_url = usgs_url + hemi_link\n",
    "        print(hemi_image_url)\n",
    "        \n",
    "        \n",
    "        \n",
    "        "
   ]
  },
  {
   "cell_type": "code",
   "execution_count": 99,
   "metadata": {
    "collapsed": false
   },
   "outputs": [
    {
     "name": "stdout",
     "output_type": "stream",
     "text": [
      "Valles Marineris Hemisphere Enhanced\n",
      "https://astrogeology.usgs.gov/cache/images/7cf2da4bf549ed01c17f206327be4db7_valles_marineris_enhanced.tif_full.jpg\n",
      "Cerberus Hemisphere Enhanced\n",
      "https://astrogeology.usgs.gov/cache/images/cfa62af2557222a02478f1fcd781d445_cerberus_enhanced.tif_full.jpg\n",
      "Schiaparelli Hemisphere Enhanced\n",
      "https://astrogeology.usgs.gov/cache/images/3cdd1cbf5e0813bba925c9030d13b62e_schiaparelli_enhanced.tif_full.jpg\n",
      "Syrtis Major Hemisphere Enhanced\n",
      "https://astrogeology.usgs.gov/cache/images/ae209b4e408bb6c3e67b6af38168cf28_syrtis_major_enhanced.tif_full.jpg\n"
     ]
    }
   ],
   "source": [
    "hemi_urls = ['https://astrogeology.usgs.gov/search/map/Mars/Viking/valles_marineris_enhanced',\n",
    "             'https://astrogeology.usgs.gov/search/map/Mars/Viking/cerberus_enhanced',\n",
    "             'https://astrogeology.usgs.gov/search/map/Mars/Viking/schiaparelli_enhanced',\n",
    "             'https://astrogeology.usgs.gov/search/map/Mars/Viking/syrtis_major_enhanced'\n",
    "            ]\n",
    "dictlist = [dict() for x in range(4)]\n",
    "\n",
    "hemisphere_image_urls = []\n",
    "hemi_image_urls = []\n",
    "hemi_titles = []\n",
    "\n",
    "usgs_url = 'https://astrogeology.usgs.gov'\n",
    "\n",
    "for item in hemi_urls:\n",
    "\n",
    "    with Browser() as browser:\n",
    "        url = item\n",
    "        browser.visit(url)\n",
    "        hemi_html = browser.html\n",
    "\n",
    "    # Create BeautifulSoup object; parse with 'html.parser'\n",
    "    soup = BeautifulSoup(hemi_html, 'html.parser')\n",
    "\n",
    "    title_results = soup.find('h2', class_ = 'title')\n",
    "    \n",
    "    for result in title_results:\n",
    "        hemi_title = title_results.text\n",
    "        print(hemi_title)\n",
    "        hemi_titles.append(hemi_title)\n",
    "    \n",
    "    link_results = soup.find_all('img', class_ = 'wide-image')\n",
    "    \n",
    "    for result in link_results:\n",
    "        # Retrieve full image url\n",
    "        hemi_link = result['src']\n",
    "        hemi_image_url = usgs_url + hemi_link\n",
    "        print(hemi_image_url)\n",
    "        hemi_image_urls.append(hemi_image_url)\n",
    "\n",
    "hemi_dict = dict(zip(hemi_titles, hemi_image_urls))\n",
    "    "
   ]
  },
  {
   "cell_type": "code",
   "execution_count": 100,
   "metadata": {
    "collapsed": false,
    "scrolled": true
   },
   "outputs": [
    {
     "data": {
      "text/plain": [
       "{'Cerberus Hemisphere Enhanced': 'https://astrogeology.usgs.gov/cache/images/cfa62af2557222a02478f1fcd781d445_cerberus_enhanced.tif_full.jpg',\n",
       " 'Schiaparelli Hemisphere Enhanced': 'https://astrogeology.usgs.gov/cache/images/3cdd1cbf5e0813bba925c9030d13b62e_schiaparelli_enhanced.tif_full.jpg',\n",
       " 'Syrtis Major Hemisphere Enhanced': 'https://astrogeology.usgs.gov/cache/images/ae209b4e408bb6c3e67b6af38168cf28_syrtis_major_enhanced.tif_full.jpg',\n",
       " 'Valles Marineris Hemisphere Enhanced': 'https://astrogeology.usgs.gov/cache/images/7cf2da4bf549ed01c17f206327be4db7_valles_marineris_enhanced.tif_full.jpg'}"
      ]
     },
     "execution_count": 100,
     "metadata": {},
     "output_type": "execute_result"
    }
   ],
   "source": [
    "hemi_dict"
   ]
  },
  {
   "cell_type": "code",
   "execution_count": 75,
   "metadata": {
    "collapsed": false
   },
   "outputs": [
    {
     "data": {
      "text/plain": [
       "['Valles Marineris Hemisphere Enhanced',\n",
       " 'Cerberus Hemisphere Enhanced',\n",
       " 'Schiaparelli Hemisphere Enhanced',\n",
       " 'Syrtis Major Hemisphere Enhanced']"
      ]
     },
     "execution_count": 75,
     "metadata": {},
     "output_type": "execute_result"
    }
   ],
   "source": [
    "hemi_titles"
   ]
  },
  {
   "cell_type": "code",
   "execution_count": 76,
   "metadata": {
    "collapsed": false
   },
   "outputs": [
    {
     "data": {
      "text/plain": [
       "['https://astrogeology.usgs.gov/cache/images/7cf2da4bf549ed01c17f206327be4db7_valles_marineris_enhanced.tif_full.jpg',\n",
       " 'https://astrogeology.usgs.gov/cache/images/cfa62af2557222a02478f1fcd781d445_cerberus_enhanced.tif_full.jpg',\n",
       " 'https://astrogeology.usgs.gov/cache/images/3cdd1cbf5e0813bba925c9030d13b62e_schiaparelli_enhanced.tif_full.jpg',\n",
       " 'https://astrogeology.usgs.gov/cache/images/ae209b4e408bb6c3e67b6af38168cf28_syrtis_major_enhanced.tif_full.jpg']"
      ]
     },
     "execution_count": 76,
     "metadata": {},
     "output_type": "execute_result"
    }
   ],
   "source": [
    "hemi_image_urls"
   ]
  },
  {
   "cell_type": "code",
   "execution_count": 98,
   "metadata": {
    "collapsed": false
   },
   "outputs": [
    {
     "data": {
      "text/plain": [
       "{'Cerberus Hemisphere Enhanced': 'https://astrogeology.usgs.gov/cache/images/cfa62af2557222a02478f1fcd781d445_cerberus_enhanced.tif_full.jpg',\n",
       " 'Schiaparelli Hemisphere Enhanced': 'https://astrogeology.usgs.gov/cache/images/3cdd1cbf5e0813bba925c9030d13b62e_schiaparelli_enhanced.tif_full.jpg',\n",
       " 'Syrtis Major Hemisphere Enhanced': 'https://astrogeology.usgs.gov/cache/images/ae209b4e408bb6c3e67b6af38168cf28_syrtis_major_enhanced.tif_full.jpg',\n",
       " 'Valles Marineris Hemisphere Enhanced': 'https://astrogeology.usgs.gov/cache/images/7cf2da4bf549ed01c17f206327be4db7_valles_marineris_enhanced.tif_full.jpg'}"
      ]
     },
     "execution_count": 98,
     "metadata": {},
     "output_type": "execute_result"
    }
   ],
   "source": [
    "hemisphere_image_urls = dict(zip(hemi_titles, hemi_image_urls))\n",
    "hemisphere_image_urls"
   ]
  },
  {
   "cell_type": "code",
   "execution_count": null,
   "metadata": {
    "collapsed": true
   },
   "outputs": [],
   "source": []
  }
 ],
 "metadata": {
  "kernelspec": {
   "display_name": "Python 3",
   "language": "python",
   "name": "python3"
  },
  "language_info": {
   "codemirror_mode": {
    "name": "ipython",
    "version": 3
   },
   "file_extension": ".py",
   "mimetype": "text/x-python",
   "name": "python",
   "nbconvert_exporter": "python",
   "pygments_lexer": "ipython3",
   "version": "3.6.0"
  }
 },
 "nbformat": 4,
 "nbformat_minor": 2
}
